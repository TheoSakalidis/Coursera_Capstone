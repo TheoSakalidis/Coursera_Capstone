{
 "cells": [
  {
   "cell_type": "markdown",
   "metadata": {},
   "source": [
    "<center><h1> Final Assignment <h1/><center/>\n",
    "<hr>"
   ]
  },
  {
   "cell_type": "markdown",
   "metadata": {},
   "source": [
    "**1. Description of the problem and a discussion of the background**"
   ]
  },
  {
   "cell_type": "markdown",
   "metadata": {},
   "source": [
    "A chef from New York owns a trendy upscale restaurant in the city's Upper East Side. Next to the fantastic food and service, the owner attributes the restaurant's prime location as one of the prime drivers of success. \n",
    "Following the New York location, the chef is planning an expansion into other major US cities, in particular Chicago and San Francisco. Before the chef starts looking for specific locations in those cities, they want to know which neighborhoods in those particular cities are the most similar to New York's Upper East Side, both culturally and economically, in order to guarantee the highest chances of success for the expansion. \n",
    "\n",
    "The following model can be used by business owners in various sectors to find the right locations for new business expansions and openings, be it in the same city or in a new city. \n",
    "\n",
    "\n"
   ]
  },
  {
   "cell_type": "markdown",
   "metadata": {},
   "source": [
    "**2. A description of the data and how it will be used to solve the problem**"
   ]
  },
  {
   "cell_type": "markdown",
   "metadata": {},
   "source": [
    "In order to find out which neighbordhoods in Chicago and San Francisco are most similar to New York's Upper East Side, we must perform a cluster analysis (K-Means Clustering). The problem we have falls within the branch of unsupervised machine learning, and we will be dealing with unlabeled data. \n",
    "The first data requirement is a list of all neighborhoods in the cities of Chicago and San Francisco, as well as our Manhattan Neighborhood, the Upper East Side. \n",
    "\n",
    "The Chicago data is available on the following link: <br>\n",
    "CSV file: https://data.cityofchicago.org/api/views/y6yq-dbs2/rows.csv?accessType=DOWNLOAD <br>\n",
    "All formats: https://data.cityofchicago.org/Facilities-Geographic-Boundaries/Boundaries-Neighborhoods/bbvz-uum9\n",
    "\n",
    "The San Francisco data is available on the following link: <br>\n",
    "CSV file: https://data.sfgov.org/api/views/6ia5-2f8k/rows.csv?accessType=DOWNLOAD <br>\n",
    "All formats: https://data.sfgov.org/Geographic-Locations-and-Boundaries/SF-Find-Neighborhoods/pty2-tcw4\n",
    "\n",
    "The New York data is available on the following link: <br>\n",
    "GeoJSON file: https://geo.nyu.edu/catalog/nyu-2451-34572 <br>\n",
    "\n",
    "The Chicago and San Francisco data are csv files, which be easily read on a pandas dataframe. \n",
    "\n",
    "Let's import Pandads and take a look at them:"
   ]
  },
  {
   "cell_type": "code",
   "execution_count": 5,
   "metadata": {},
   "outputs": [
    {
     "name": "stdout",
     "output_type": "stream",
     "text": [
      "Libraries imported.\n"
     ]
    }
   ],
   "source": [
    "import pandas as pd # library for data analsysis\n",
    "pd.set_option('display.max_columns', None)\n",
    "pd.set_option('display.max_rows', None)\n",
    "\n",
    "import json # library to handle JSON files\n",
    "\n",
    "print('Libraries imported.')"
   ]
  },
  {
   "cell_type": "markdown",
   "metadata": {},
   "source": [
    "\n",
    "The Chicago dataset contains the variables 'the_geom','PRI_NEIGH' which is our variable of interest, 'SEC_NEIGH', 'SHAPE_AREA', and 'SHAPE_LEN' and has a total of 98 rows, one for each neighborhood. "
   ]
  },
  {
   "cell_type": "code",
   "execution_count": 3,
   "metadata": {},
   "outputs": [
    {
     "data": {
      "text/html": [
       "<div>\n",
       "<style scoped>\n",
       "    .dataframe tbody tr th:only-of-type {\n",
       "        vertical-align: middle;\n",
       "    }\n",
       "\n",
       "    .dataframe tbody tr th {\n",
       "        vertical-align: top;\n",
       "    }\n",
       "\n",
       "    .dataframe thead th {\n",
       "        text-align: right;\n",
       "    }\n",
       "</style>\n",
       "<table border=\"1\" class=\"dataframe\">\n",
       "  <thead>\n",
       "    <tr style=\"text-align: right;\">\n",
       "      <th></th>\n",
       "      <th>the_geom</th>\n",
       "      <th>PRI_NEIGH</th>\n",
       "      <th>SEC_NEIGH</th>\n",
       "      <th>SHAPE_AREA</th>\n",
       "      <th>SHAPE_LEN</th>\n",
       "    </tr>\n",
       "  </thead>\n",
       "  <tbody>\n",
       "    <tr>\n",
       "      <td>0</td>\n",
       "      <td>MULTIPOLYGON (((-87.60670812560372 41.81681377...</td>\n",
       "      <td>Grand Boulevard</td>\n",
       "      <td>BRONZEVILLE</td>\n",
       "      <td>4.849250e+07</td>\n",
       "      <td>28196.837157</td>\n",
       "    </tr>\n",
       "    <tr>\n",
       "      <td>1</td>\n",
       "      <td>MULTIPOLYGON (((-87.62760697485348 41.87437097...</td>\n",
       "      <td>Printers Row</td>\n",
       "      <td>PRINTERS ROW</td>\n",
       "      <td>2.162138e+06</td>\n",
       "      <td>6864.247156</td>\n",
       "    </tr>\n",
       "    <tr>\n",
       "      <td>2</td>\n",
       "      <td>MULTIPOLYGON (((-87.66706868914602 41.88885187...</td>\n",
       "      <td>United Center</td>\n",
       "      <td>UNITED CENTER</td>\n",
       "      <td>3.252051e+07</td>\n",
       "      <td>23101.363745</td>\n",
       "    </tr>\n",
       "    <tr>\n",
       "      <td>3</td>\n",
       "      <td>MULTIPOLYGON (((-87.65833494805533 41.92166144...</td>\n",
       "      <td>Sheffield &amp; DePaul</td>\n",
       "      <td>SHEFFIELD &amp; DEPAUL</td>\n",
       "      <td>1.048259e+07</td>\n",
       "      <td>13227.049745</td>\n",
       "    </tr>\n",
       "    <tr>\n",
       "      <td>4</td>\n",
       "      <td>MULTIPOLYGON (((-87.74059567509266 41.88782316...</td>\n",
       "      <td>Humboldt Park</td>\n",
       "      <td>HUMBOLDT PARK</td>\n",
       "      <td>1.250104e+08</td>\n",
       "      <td>46126.751351</td>\n",
       "    </tr>\n",
       "  </tbody>\n",
       "</table>\n",
       "</div>"
      ],
      "text/plain": [
       "                                            the_geom           PRI_NEIGH  \\\n",
       "0  MULTIPOLYGON (((-87.60670812560372 41.81681377...     Grand Boulevard   \n",
       "1  MULTIPOLYGON (((-87.62760697485348 41.87437097...        Printers Row   \n",
       "2  MULTIPOLYGON (((-87.66706868914602 41.88885187...       United Center   \n",
       "3  MULTIPOLYGON (((-87.65833494805533 41.92166144...  Sheffield & DePaul   \n",
       "4  MULTIPOLYGON (((-87.74059567509266 41.88782316...       Humboldt Park   \n",
       "\n",
       "            SEC_NEIGH    SHAPE_AREA     SHAPE_LEN  \n",
       "0         BRONZEVILLE  4.849250e+07  28196.837157  \n",
       "1        PRINTERS ROW  2.162138e+06   6864.247156  \n",
       "2       UNITED CENTER  3.252051e+07  23101.363745  \n",
       "3  SHEFFIELD & DEPAUL  1.048259e+07  13227.049745  \n",
       "4       HUMBOLDT PARK  1.250104e+08  46126.751351  "
      ]
     },
     "execution_count": 3,
     "metadata": {},
     "output_type": "execute_result"
    }
   ],
   "source": [
    "Chicago_df=pd.read_csv('Chicago_Neighborhoods.csv')\n",
    "Chicago_df.head()"
   ]
  },
  {
   "cell_type": "code",
   "execution_count": 4,
   "metadata": {},
   "outputs": [
    {
     "data": {
      "text/plain": [
       "(98, 5)"
      ]
     },
     "execution_count": 4,
     "metadata": {},
     "output_type": "execute_result"
    }
   ],
   "source": [
    "Chicago_df.shape"
   ]
  },
  {
   "cell_type": "markdown",
   "metadata": {},
   "source": [
    "\n",
    "The San Francisco dataset contains the variables 'LINK','the_geom', and 'name' which is our variable of interest, and has 117 rows, one for each neighborhood. "
   ]
  },
  {
   "cell_type": "code",
   "execution_count": 10,
   "metadata": {},
   "outputs": [
    {
     "data": {
      "text/html": [
       "<div>\n",
       "<style scoped>\n",
       "    .dataframe tbody tr th:only-of-type {\n",
       "        vertical-align: middle;\n",
       "    }\n",
       "\n",
       "    .dataframe tbody tr th {\n",
       "        vertical-align: top;\n",
       "    }\n",
       "\n",
       "    .dataframe thead th {\n",
       "        text-align: right;\n",
       "    }\n",
       "</style>\n",
       "<table border=\"1\" class=\"dataframe\">\n",
       "  <thead>\n",
       "    <tr style=\"text-align: right;\">\n",
       "      <th></th>\n",
       "      <th>LINK</th>\n",
       "      <th>the_geom</th>\n",
       "      <th>name</th>\n",
       "    </tr>\n",
       "  </thead>\n",
       "  <tbody>\n",
       "    <tr>\n",
       "      <td>0</td>\n",
       "      <td>http://en.wikipedia.org/wiki/Sea_Cliff,_San_Fr...</td>\n",
       "      <td>MULTIPOLYGON (((-122.49345526799993 37.7835181...</td>\n",
       "      <td>Seacliff</td>\n",
       "    </tr>\n",
       "    <tr>\n",
       "      <td>1</td>\n",
       "      <td>NaN</td>\n",
       "      <td>MULTIPOLYGON (((-122.48715071499993 37.7837854...</td>\n",
       "      <td>Lake Street</td>\n",
       "    </tr>\n",
       "    <tr>\n",
       "      <td>2</td>\n",
       "      <td>http://www.nps.gov/prsf/index.htm</td>\n",
       "      <td>MULTIPOLYGON (((-122.47758017099994 37.8109931...</td>\n",
       "      <td>Presidio National Park</td>\n",
       "    </tr>\n",
       "    <tr>\n",
       "      <td>3</td>\n",
       "      <td>NaN</td>\n",
       "      <td>MULTIPOLYGON (((-122.47241052999993 37.7873465...</td>\n",
       "      <td>Presidio Terrace</td>\n",
       "    </tr>\n",
       "    <tr>\n",
       "      <td>4</td>\n",
       "      <td>http://www.sfgate.com/neighborhoods/sf/innerri...</td>\n",
       "      <td>MULTIPOLYGON (((-122.47262578999994 37.7863148...</td>\n",
       "      <td>Inner Richmond</td>\n",
       "    </tr>\n",
       "  </tbody>\n",
       "</table>\n",
       "</div>"
      ],
      "text/plain": [
       "                                                LINK  \\\n",
       "0  http://en.wikipedia.org/wiki/Sea_Cliff,_San_Fr...   \n",
       "1                                                NaN   \n",
       "2                  http://www.nps.gov/prsf/index.htm   \n",
       "3                                                NaN   \n",
       "4  http://www.sfgate.com/neighborhoods/sf/innerri...   \n",
       "\n",
       "                                            the_geom                    name  \n",
       "0  MULTIPOLYGON (((-122.49345526799993 37.7835181...                Seacliff  \n",
       "1  MULTIPOLYGON (((-122.48715071499993 37.7837854...             Lake Street  \n",
       "2  MULTIPOLYGON (((-122.47758017099994 37.8109931...  Presidio National Park  \n",
       "3  MULTIPOLYGON (((-122.47241052999993 37.7873465...        Presidio Terrace  \n",
       "4  MULTIPOLYGON (((-122.47262578999994 37.7863148...          Inner Richmond  "
      ]
     },
     "execution_count": 10,
     "metadata": {},
     "output_type": "execute_result"
    }
   ],
   "source": [
    "SanFrancisco_df=pd.read_csv('SFFind_Neighborhoods.csv')\n",
    "SanFrancisco_df.head()"
   ]
  },
  {
   "cell_type": "code",
   "execution_count": 11,
   "metadata": {},
   "outputs": [
    {
     "data": {
      "text/plain": [
       "(117, 3)"
      ]
     },
     "execution_count": 11,
     "metadata": {},
     "output_type": "execute_result"
    }
   ],
   "source": [
    "SanFrancisco_df.shape"
   ]
  },
  {
   "cell_type": "markdown",
   "metadata": {},
   "source": [
    "\n",
    "The New York data is a GeoJSON file, from which we can find the neighborhood name under 'features.properties.name' and our geospatial coordinates under 'features.geometry.coordinates'. \n"
   ]
  },
  {
   "cell_type": "code",
   "execution_count": 12,
   "metadata": {},
   "outputs": [
    {
     "data": {
      "text/plain": [
       "{'type': 'Feature',\n",
       " 'id': 'nyu_2451_34572.1',\n",
       " 'geometry': {'type': 'Point',\n",
       "  'coordinates': [-73.84720052054902, 40.89470517661]},\n",
       " 'geometry_name': 'geom',\n",
       " 'properties': {'name': 'Wakefield',\n",
       "  'stacked': 1,\n",
       "  'annoline1': 'Wakefield',\n",
       "  'annoline2': None,\n",
       "  'annoline3': None,\n",
       "  'annoangle': 0.0,\n",
       "  'borough': 'Bronx',\n",
       "  'bbox': [-73.84720052054902,\n",
       "   40.89470517661,\n",
       "   -73.84720052054902,\n",
       "   40.89470517661]}}"
      ]
     },
     "execution_count": 12,
     "metadata": {},
     "output_type": "execute_result"
    }
   ],
   "source": [
    "with open('nyu-2451-34572-geojson.json') as json_data:\n",
    "    newyork_data=json.load(json_data)\n",
    "    \n",
    "neighborhood_data=newyork_data['features']\n",
    "neighborhood_data[0]"
   ]
  },
  {
   "cell_type": "markdown",
   "metadata": {},
   "source": [
    "Having these files, we must then filter out the neighborhoods, and assign them with a prefix to label them with their respective city."
   ]
  },
  {
   "cell_type": "markdown",
   "metadata": {},
   "source": [
    " \n",
    "To explore cultural similarity, we will be using the FourSquare API to find out what types of venues are popular in each of the neighborhoods and then compare them with each other. Therefore, we will need the Latitude and Longitude values of the neighborhoods. For Chicago and San Francisco we can get those through the Google Maps API and add them to our Dataframe. \n",
    "\n",
    "Now we are ready to call the FourSqaure API and connect to the search endpoint in the venues group. This will return a JSON file, from which we extract the info on the venue category and place it in a pandas dataframe, along with the neighborhood name. For the KMeans clustering we first calculate the mean frequencies of each venue category in a particular neighborhood, compute a measure of similarity (dissimilarity) of the neighborhood to each of the K cluster centers (centroids), and then assign it to the one closest to it. Recalculating the K centroids based on the mean of data points within that cluster and reallocating data points based on distance will lead to the algorithm giving us a total of K different clusters that have maximum similarity within themselves, but maximum dissimilarity among each other. \n",
    "\n",
    "Once we have our clusters, we can focus on the one containing New York's Upper East side and the culturally similar Chicago and San Francisco neighborhoods. To find neighborhoods which have a high proportion of high income households, similar to the Upper East Side, we need to further divide this cluster based on Median Household Income. This is the appropriate measure, given that the median household income is is generally less affected by outliers (i.e. very high income individuals) than the mean income and can give a better indication of the average levels of income for the residents in the neighborhood. I was unable to find a dataset that cointains each neighborhood and their median household income online for free, therefore, we will be using a dataset that lists the median household income by postal code. Please note that the data is from 2006-2010, and processes like gentrification may have significantly affected this data (especially in low-income areas around the city center)."
   ]
  },
  {
   "cell_type": "markdown",
   "metadata": {},
   "source": [
    "The dataset can be found on the following link: https://www.psc.isr.umich.edu/dis/census/Features/tract2zip/\n",
    "\n",
    "We can see that the file has four columns: 'Zip' for ZIP code, 'Median' for median income, 'Mean' for mean income, and 'Pop' for population. In total. the file has information on 32,634 postal codes in the United States. "
   ]
  },
  {
   "cell_type": "code",
   "execution_count": 13,
   "metadata": {},
   "outputs": [
    {
     "data": {
      "text/html": [
       "<div>\n",
       "<style scoped>\n",
       "    .dataframe tbody tr th:only-of-type {\n",
       "        vertical-align: middle;\n",
       "    }\n",
       "\n",
       "    .dataframe tbody tr th {\n",
       "        vertical-align: top;\n",
       "    }\n",
       "\n",
       "    .dataframe thead th {\n",
       "        text-align: right;\n",
       "    }\n",
       "</style>\n",
       "<table border=\"1\" class=\"dataframe\">\n",
       "  <thead>\n",
       "    <tr style=\"text-align: right;\">\n",
       "      <th></th>\n",
       "      <th>Zip</th>\n",
       "      <th>Median</th>\n",
       "      <th>Mean</th>\n",
       "      <th>Pop</th>\n",
       "    </tr>\n",
       "  </thead>\n",
       "  <tbody>\n",
       "    <tr>\n",
       "      <td>0</td>\n",
       "      <td>1001</td>\n",
       "      <td>56,663</td>\n",
       "      <td>66,688</td>\n",
       "      <td>16,445</td>\n",
       "    </tr>\n",
       "    <tr>\n",
       "      <td>1</td>\n",
       "      <td>1002</td>\n",
       "      <td>49,853</td>\n",
       "      <td>75,063</td>\n",
       "      <td>28,069</td>\n",
       "    </tr>\n",
       "    <tr>\n",
       "      <td>2</td>\n",
       "      <td>1003</td>\n",
       "      <td>28,462</td>\n",
       "      <td>35,121</td>\n",
       "      <td>8,491</td>\n",
       "    </tr>\n",
       "    <tr>\n",
       "      <td>3</td>\n",
       "      <td>1005</td>\n",
       "      <td>75,423</td>\n",
       "      <td>82,442</td>\n",
       "      <td>4,798</td>\n",
       "    </tr>\n",
       "    <tr>\n",
       "      <td>4</td>\n",
       "      <td>1007</td>\n",
       "      <td>79,076</td>\n",
       "      <td>85,802</td>\n",
       "      <td>12,962</td>\n",
       "    </tr>\n",
       "  </tbody>\n",
       "</table>\n",
       "</div>"
      ],
      "text/plain": [
       "    Zip  Median    Mean     Pop\n",
       "0  1001  56,663  66,688  16,445\n",
       "1  1002  49,853  75,063  28,069\n",
       "2  1003  28,462  35,121   8,491\n",
       "3  1005  75,423  82,442   4,798\n",
       "4  1007  79,076  85,802  12,962"
      ]
     },
     "execution_count": 13,
     "metadata": {},
     "output_type": "execute_result"
    }
   ],
   "source": [
    "zip_income_df=pd.read_csv('MedianZIP.csv')\n",
    "zip_income_df.head()"
   ]
  },
  {
   "cell_type": "code",
   "execution_count": 14,
   "metadata": {},
   "outputs": [
    {
     "data": {
      "text/plain": [
       "(32634, 4)"
      ]
     },
     "execution_count": 14,
     "metadata": {},
     "output_type": "execute_result"
    }
   ],
   "source": [
    "zip_income_df.shape"
   ]
  },
  {
   "cell_type": "markdown",
   "metadata": {},
   "source": [
    "In order to map a median household income to each neighborhood, we must first find their postal code. It is to mention though that there might be some overlap between neighborhoods, or that some neighborhoods contain several postal codes and we will only be using the one our Latitude and Longitude data falls on. The postal code, again, can be found through the Google Maps API. \n",
    "\n",
    "Having the postal code allocated to each of the neighborhoods in our relevant cluster, we can get the information on the median household income. Now we can conduct another KMeans cluster analysis within the relvant cluster, based on income.  \n",
    "\n",
    "The appropriate neighborhoods to open the restaurants in Chicago and San Francisco will be the ones that, again, share a cluster with the Upper East Side. To visualize our results, it is best to use a Choropleth map, coloring the areas based on suitability, from unsuitable, to culturally similar, to culturally and economically similar. Culturally and economically similar locations are optimal and will be colored in red. A choropleth map requires a GeoJSON file. \n",
    "\n",
    "The GeoJSON file of Chicago neighborhoods can be downloaded here:  <br>\n",
    "https://data.cityofchicago.org/api/geospatial/bbvz-uum9?method=export&format=GeoJSON <br>\n",
    "The GeoJSON file of San Francisco neighborhoods can be downloaded here: <br>\n",
    "https://data.sfgov.org/api/geospatial/pty2-tcw4?method=export&format=GeoJSON <br>\n",
    "\n",
    "For the Chicago neighborhoods, the key (neighborhood name) can be found under 'features.properties.pri_neigh' and for the San Francisco neighborhoods, the key can be found under 'features.properties.name'.\n",
    "\n"
   ]
  },
  {
   "cell_type": "code",
   "execution_count": 18,
   "metadata": {},
   "outputs": [
    {
     "name": "stdout",
     "output_type": "stream",
     "text": [
      "{'pri_neigh': 'Grand Boulevard', 'sec_neigh': 'BRONZEVILLE', 'shape_area': '48492503.1554', 'shape_len': '28196.837157'}\n",
      "{'pri_neigh': 'Printers Row', 'sec_neigh': 'PRINTERS ROW', 'shape_area': '2162137.97139', 'shape_len': '6864.247156'}\n",
      "{'pri_neigh': 'United Center', 'sec_neigh': 'UNITED CENTER', 'shape_area': '32520512.7053', 'shape_len': '23101.363745'}\n",
      "{'pri_neigh': 'Sheffield & DePaul', 'sec_neigh': 'SHEFFIELD & DEPAUL', 'shape_area': '10482592.2987', 'shape_len': '13227.049745'}\n",
      "{'pri_neigh': 'Humboldt Park', 'sec_neigh': 'HUMBOLDT PARK', 'shape_area': '125010425.593', 'shape_len': '46126.751351'}\n",
      "{'pri_neigh': 'Garfield Park', 'sec_neigh': 'GARFIELD PARK', 'shape_area': '89976069.5947', 'shape_len': '44460.91922'}\n",
      "{'pri_neigh': 'North Lawndale', 'sec_neigh': 'NORTH LAWNDALE', 'shape_area': '89487422.0244', 'shape_len': '44959.459663'}\n",
      "{'pri_neigh': 'Little Village', 'sec_neigh': 'LITTLE VILLAGE', 'shape_area': '127998297.819', 'shape_len': '49904.04003'}\n",
      "{'pri_neigh': 'Armour Square', 'sec_neigh': 'ARMOUR SQUARE,CHINATOWN', 'shape_area': '17141468.6356', 'shape_len': '24359.189625'}\n",
      "{'pri_neigh': 'Avalon Park', 'sec_neigh': 'AVALON PARK,CALUMET HEIGHTS', 'shape_area': '34852737.7366', 'shape_len': '27630.822534'}\n",
      "{'pri_neigh': 'Burnside', 'sec_neigh': 'CHATHAM,BURNSIDE', 'shape_area': '16995983.2737', 'shape_len': '18137.944253'}\n",
      "{'pri_neigh': 'Hermosa', 'sec_neigh': 'BELMONT CRAIGIN,HERMOSA', 'shape_area': '32602059.4055', 'shape_len': '27179.017438'}\n",
      "{'pri_neigh': 'Avondale', 'sec_neigh': 'IRVING PARK,AVONDALE', 'shape_area': '55290595.482', 'shape_len': '34261.933404'}\n",
      "{'pri_neigh': 'Logan Square', 'sec_neigh': 'LOGAN SQUARE', 'shape_area': '71256806.5518', 'shape_len': '36361.508518'}\n",
      "{'pri_neigh': 'Calumet Heights', 'sec_neigh': 'AVALON PARK,CALUMET HEIGHTS', 'shape_area': '48826241.5643', 'shape_len': '32925.365871'}\n",
      "{'pri_neigh': 'East Side', 'sec_neigh': 'SOUTHEAST SIDE', 'shape_area': '83241728.0493', 'shape_len': '52274.192849'}\n",
      "{'pri_neigh': 'West Pullman', 'sec_neigh': 'WEST PULLMAN', 'shape_area': '99365198.0822', 'shape_len': '50023.843001'}\n",
      "{'pri_neigh': 'Garfield Ridge', 'sec_neigh': 'MIDWAY AIRPORT', 'shape_area': '117890778.429', 'shape_len': '60080.44797'}\n",
      "{'pri_neigh': 'New City', 'sec_neigh': 'BACK OF THE YARDS', 'shape_area': '134636963.254', 'shape_len': '48133.595961'}\n",
      "{'pri_neigh': 'Englewood', 'sec_neigh': 'ENGLEWOOD', 'shape_area': '173600015.009', 'shape_len': '56144.046048'}\n",
      "{'pri_neigh': 'Grand Crossing', 'sec_neigh': 'SOUTH SHORE, GRAND CROSSING', 'shape_area': '98853167.7093', 'shape_len': '54645.3303'}\n",
      "{'pri_neigh': 'Ashburn', 'sec_neigh': 'ASHBURN', 'shape_area': '135460337.208', 'shape_len': '54818.154632'}\n",
      "{'pri_neigh': 'Mount Greenwood', 'sec_neigh': 'MOUNT GREENWOOD,MORGAN PARK', 'shape_area': '75584290.0209', 'shape_len': '48665.130539'}\n",
      "{'pri_neigh': 'Morgan Park', 'sec_neigh': 'MOUNT GREENWOOD,MORGAN PARK', 'shape_area': '91877340.6988', 'shape_len': '46396.419362'}\n",
      "{'pri_neigh': \"O'Hare\", 'sec_neigh': 'OHARE', 'shape_area': '371835607.687', 'shape_len': '173625.98466'}\n",
      "{'pri_neigh': 'Jackson Park', 'sec_neigh': 'JACKSON PARK', 'shape_area': '23545658.7772', 'shape_len': '32779.73078'}\n",
      "{'pri_neigh': 'Loop', 'sec_neigh': 'LOOP', 'shape_area': '31485185.0318', 'shape_len': '52640.907563'}\n",
      "{'pri_neigh': 'Pullman', 'sec_neigh': 'PULLMAN', 'shape_area': '59001555.602', 'shape_len': '35572.069508'}\n",
      "{'pri_neigh': 'Riverdale', 'sec_neigh': 'RIVERDALE', 'shape_area': '98389497.4143', 'shape_len': '46455.440857'}\n",
      "{'pri_neigh': 'Hegewisch', 'sec_neigh': 'SOUTHEAST SIDE', 'shape_area': '145965741.437', 'shape_len': '73692.382132'}\n",
      "{'pri_neigh': 'Greektown', 'sec_neigh': 'GREEKTOWN', 'shape_area': '1650645.84189', 'shape_len': '6099.310646'}\n",
      "{'pri_neigh': 'Douglas', 'sec_neigh': 'BRONZEVILLE', 'shape_area': '46004621.137', 'shape_len': '31027.053671'}\n",
      "{'pri_neigh': 'Museum Campus', 'sec_neigh': 'MUSEUM CAMPUS', 'shape_area': '15517071.1631', 'shape_len': '35127.151984'}\n",
      "{'pri_neigh': 'Edgewater', 'sec_neigh': 'EDGEWATER', 'shape_area': '38865397.6718', 'shape_len': '31012.83416'}\n",
      "{'pri_neigh': 'Lake View', 'sec_neigh': 'LAKE VIEW', 'shape_area': '76561177.2562', 'shape_len': '69715.29313'}\n",
      "{'pri_neigh': 'Lincoln Park', 'sec_neigh': 'LINCOLN PARK', 'shape_area': '67401451.3717', 'shape_len': '61856.516472'}\n",
      "{'pri_neigh': 'Magnificent Mile', 'sec_neigh': 'STREETERVILLE', 'shape_area': '882405.08616', 'shape_len': '9154.567115'}\n",
      "{'pri_neigh': 'Lincoln Square', 'sec_neigh': 'LINCOLN SQUARE', 'shape_area': '71352328.2399', 'shape_len': '36624.603085'}\n",
      "{'pri_neigh': 'Oakland', 'sec_neigh': 'OAKLAND,KENWOOD', 'shape_area': '16913961.0408', 'shape_len': '19565.506153'}\n",
      "{'pri_neigh': 'Grant Park', 'sec_neigh': 'GRANT PARK', 'shape_area': '8974786.19635', 'shape_len': '13171.698067'}\n",
      "{'pri_neigh': 'West Loop', 'sec_neigh': 'WEST LOOP', 'shape_area': '52945063.8967', 'shape_len': '43907.671821'}\n",
      "{'pri_neigh': 'Fuller Park', 'sec_neigh': 'BACK OF THE YARDS', 'shape_area': '19916704.8692', 'shape_len': '25339.08975'}\n",
      "{'pri_neigh': 'Andersonville', 'sec_neigh': 'ANDERSONVILLE', 'shape_area': '9584592.89906', 'shape_len': '12534.092625'}\n",
      "{'pri_neigh': 'Woodlawn', 'sec_neigh': 'WOODLAWN', 'shape_area': '40515739.083', 'shape_len': '28960.059037'}\n",
      "{'pri_neigh': 'Portage Park', 'sec_neigh': 'PORTAGE PARK', 'shape_area': '110196097.139', 'shape_len': '46520.642138'}\n",
      "{'pri_neigh': 'Rush & Division', 'sec_neigh': 'RUSH & DIVISION', 'shape_area': '3489575.8016', 'shape_len': '8503.033133'}\n",
      "{'pri_neigh': 'Little Italy, UIC', 'sec_neigh': 'LITTLE ITALY, UIC', 'shape_area': '71376244.1225', 'shape_len': '36568.464289'}\n",
      "{'pri_neigh': 'Kenwood', 'sec_neigh': 'KENWOOD,OAKLAND', 'shape_area': '29071741.9283', 'shape_len': '23325.167906'}\n",
      "{'pri_neigh': 'Rogers Park', 'sec_neigh': 'ROGERS PARK', 'shape_area': '51259902.4506', 'shape_len': '34052.397576'}\n",
      "{'pri_neigh': 'Jefferson Park', 'sec_neigh': 'JEFFERSON PARK', 'shape_area': '64868161.6819', 'shape_len': '44011.95717'}\n",
      "{'pri_neigh': 'Sauganash,Forest Glen', 'sec_neigh': 'SAUGANASH,FOREST GLEN', 'shape_area': '89130893.6364', 'shape_len': '74493.821604'}\n",
      "{'pri_neigh': 'North Park', 'sec_neigh': 'NORTH PARK,ALBANY PARK', 'shape_area': '70288706.4343', 'shape_len': '41581.948654'}\n",
      "{'pri_neigh': 'Albany Park', 'sec_neigh': 'NORTH PARK,ALBANY PARK', 'shape_area': '53542230.819', 'shape_len': '39339.016439'}\n",
      "{'pri_neigh': 'Irving Park', 'sec_neigh': 'IRVING PARK,AVONDALE', 'shape_area': '89611382.3106', 'shape_len': '49083.224094'}\n",
      "{'pri_neigh': 'Dunning', 'sec_neigh': 'DUNNING', 'shape_area': '103595001.175', 'shape_len': '54555.992534'}\n",
      "{'pri_neigh': 'West Ridge', 'sec_neigh': 'WEST RIDGE', 'shape_area': '98429094.8621', 'shape_len': '43020.689458'}\n",
      "{'pri_neigh': 'Uptown', 'sec_neigh': 'UPTOWN', 'shape_area': '65095642.836', 'shape_len': '46972.790182'}\n",
      "{'pri_neigh': 'Norwood Park', 'sec_neigh': 'NORWOOD PARK', 'shape_area': '121959105.47', 'shape_len': '80368.374378'}\n",
      "{'pri_neigh': 'Streeterville', 'sec_neigh': 'STREETERVILLE', 'shape_area': '17894338.8151', 'shape_len': '40084.161471'}\n",
      "{'pri_neigh': 'South Shore', 'sec_neigh': 'SOUTH SHORE, GRAND CROSSING', 'shape_area': '81812716.3904', 'shape_len': '44249.645178'}\n",
      "{'pri_neigh': 'Chatham', 'sec_neigh': 'CHATHAM,BURNSIDE', 'shape_area': '82320670.3112', 'shape_len': '42006.945009'}\n",
      "{'pri_neigh': 'South Chicago', 'sec_neigh': 'SOUTH CHICAGO', 'shape_area': '93272185.0092', 'shape_len': '52435.979431'}\n",
      "{'pri_neigh': 'Roseland', 'sec_neigh': 'WASHINGTON HEIGHTS,ROSELAND', 'shape_area': '134313706.73', 'shape_len': '56632.795429'}\n",
      "{'pri_neigh': 'North Center', 'sec_neigh': 'NORTH CENTER', 'shape_area': '57054167.85', 'shape_len': '31391.669754'}\n",
      "{'pri_neigh': 'South Deering', 'sec_neigh': 'SOUTHEAST SIDE', 'shape_area': '303797059.66', 'shape_len': '80389.8718'}\n",
      "{'pri_neigh': 'Washington Park', 'sec_neigh': 'WASHINGTON PARK', 'shape_area': '42373881.4842', 'shape_len': '28175.316087'}\n",
      "{'pri_neigh': 'Millenium Park', 'sec_neigh': 'MILLENIUM PARK', 'shape_area': '2775228.37927', 'shape_len': '7567.38558'}\n",
      "{'pri_neigh': 'Near South Side', 'sec_neigh': 'NEAR SOUTH SIDE', 'shape_area': '34252582.7003', 'shape_len': '26884.589204'}\n",
      "{'pri_neigh': 'Chinatown', 'sec_neigh': 'ARMOUR SQUARE,CHINATOWN', 'shape_area': '10624727.4605', 'shape_len': '14452.766257'}\n",
      "{'pri_neigh': 'Chicago Lawn', 'sec_neigh': 'MARQUETTE PARK,GAGE PARK', 'shape_area': '98279465.1151', 'shape_len': '40073.099838'}\n",
      "{'pri_neigh': 'Auburn Gresham', 'sec_neigh': 'AUBURN GRESHAM', 'shape_area': '105065353.602', 'shape_len': '46757.721716'}\n",
      "{'pri_neigh': 'Beverly', 'sec_neigh': 'BEVERLY', 'shape_area': '88779363.9384', 'shape_len': '44591.485101'}\n",
      "{'pri_neigh': 'Washington Heights', 'sec_neigh': 'WASHINGTON HEIGHTS,ROSELAND', 'shape_area': '79635752.8769', 'shape_len': '42222.598163'}\n",
      "{'pri_neigh': 'Edison Park', 'sec_neigh': 'EDISON PARK', 'shape_area': '31636313.7864', 'shape_len': '25937.226841'}\n",
      "{'pri_neigh': 'Hyde Park', 'sec_neigh': 'HYDE PARK', 'shape_area': '38859161.8437', 'shape_len': '28013.027919'}\n",
      "{'pri_neigh': 'Bucktown', 'sec_neigh': 'BUCKTOWN', 'shape_area': '28800760.1412', 'shape_len': '26109.10761'}\n",
      "{'pri_neigh': 'Lower West Side', 'sec_neigh': 'LOWER WEST SIDE', 'shape_area': '81550723.8231', 'shape_len': '43229.368807'}\n",
      "{'pri_neigh': 'Wrigleyville', 'sec_neigh': 'WRIGLEYVILLE', 'shape_area': '7287843.05188', 'shape_len': '12154.650571'}\n",
      "{'pri_neigh': 'Archer Heights', 'sec_neigh': 'ARCHER HEIGHTS,WEST ELSDON', 'shape_area': '55922505.7212', 'shape_len': '31880.02103'}\n",
      "{'pri_neigh': 'Brighton Park', 'sec_neigh': 'BRIGHTON PARK,MCKINLEY PARK', 'shape_area': '75892790.3114', 'shape_len': '36537.134306'}\n",
      "{'pri_neigh': 'Mckinley Park', 'sec_neigh': 'BRIGHTON PARK,MCKINLEY PARK', 'shape_area': '39431799.6479', 'shape_len': '26014.096837'}\n",
      "{'pri_neigh': 'East Village', 'sec_neigh': 'UKRAINIAN VILLAGE AND EAST VILLAGE', 'shape_area': '7050048.46888', 'shape_len': '10620.662884'}\n",
      "{'pri_neigh': 'West Town', 'sec_neigh': 'WICKER PARK,WEST TOWN', 'shape_area': '58507728.4211', 'shape_len': '46673.620546'}\n",
      "{'pri_neigh': 'Bridgeport', 'sec_neigh': 'BRIDGEPORT', 'shape_area': '58291519.276', 'shape_len': '32732.718327'}\n",
      "{'pri_neigh': 'West Elsdon', 'sec_neigh': 'ARCHER HEIGHTS,WEST ELSDON', 'shape_area': '32711091.4259', 'shape_len': '26229.695601'}\n",
      "{'pri_neigh': 'Gage Park', 'sec_neigh': 'MARQUETTE PARK,GAGE PARK', 'shape_area': '61284896.1132', 'shape_len': '32294.195911'}\n",
      "{'pri_neigh': 'Clearing', 'sec_neigh': 'MIDWAY AIRPORT', 'shape_area': '71145192.3827', 'shape_len': '45363.286175'}\n",
      "{'pri_neigh': 'West Lawn', 'sec_neigh': 'WEST LAWN', 'shape_area': '82315301.6831', 'shape_len': '41934.490131'}\n",
      "{'pri_neigh': 'Wicker Park', 'sec_neigh': 'WICKER PARK,WEST TOWN', 'shape_area': '26853193.0926', 'shape_len': '21992.660946'}\n",
      "{'pri_neigh': 'Ukrainian Village', 'sec_neigh': 'UKRAINIAN VILLAGE AND EAST VILLAGE', 'shape_area': '10622385.5776', 'shape_len': '13311.469796'}\n",
      "{'pri_neigh': 'Galewood', 'sec_neigh': 'MONTCLARE, GALEWOOD', 'shape_area': '29257505.72', 'shape_len': '25124.770455'}\n",
      "{'pri_neigh': 'Montclare', 'sec_neigh': 'MONTCLARE, GALEWOOD', 'shape_area': '27535347.8586', 'shape_len': '22829.533626'}\n",
      "{'pri_neigh': 'Old Town', 'sec_neigh': 'OLD TOWN', 'shape_area': '19847998.9611', 'shape_len': '17905.728676'}\n",
      "{'pri_neigh': 'Belmont Cragin', 'sec_neigh': 'BELMONT CRAGIN,HERMOSA', 'shape_area': '109099407.211', 'shape_len': '43311.706886'}\n",
      "{'pri_neigh': 'Austin', 'sec_neigh': 'AUSTIN', 'shape_area': '170037750.826', 'shape_len': '55473.345911'}\n",
      "{'pri_neigh': 'Gold Coast', 'sec_neigh': 'GOLD COAST', 'shape_area': '7165705.53467', 'shape_len': '13685.479377'}\n",
      "{'pri_neigh': 'Boystown', 'sec_neigh': 'BOYSTOWN', 'shape_area': '3365778.97115', 'shape_len': '9780.268985'}\n",
      "{'pri_neigh': 'River North', 'sec_neigh': 'RIVER NORTH', 'shape_area': '38766442.5194', 'shape_len': '31506.03781'}\n"
     ]
    }
   ],
   "source": [
    "import json\n",
    "with open('cbn.geojson') as f:\n",
    "    chicago_boundaries=json.load(f)\n",
    "\n",
    "for feature in chicago_boundaries['features']:\n",
    "   print(feature['properties'])"
   ]
  },
  {
   "cell_type": "code",
   "execution_count": 16,
   "metadata": {},
   "outputs": [
    {
     "name": "stdout",
     "output_type": "stream",
     "text": [
      "{'link': 'http://en.wikipedia.org/wiki/Sea_Cliff,_San_Francisco,_California', 'name': 'Seacliff'}\n",
      "{'link': None, 'name': 'Lake Street'}\n",
      "{'link': 'http://www.nps.gov/prsf/index.htm', 'name': 'Presidio National Park'}\n",
      "{'link': None, 'name': 'Presidio Terrace'}\n",
      "{'link': 'http://www.sfgate.com/neighborhoods/sf/innerrichmond/', 'name': 'Inner Richmond'}\n",
      "{'link': None, 'name': 'Sutro Heights'}\n",
      "{'link': None, 'name': 'Lincoln Park / Ft. Miley'}\n",
      "{'link': 'http://www.sfgate.com/neighborhoods/sf/outerrichmond/', 'name': 'Outer Richmond'}\n",
      "{'link': 'http://www.sfgate.com/neighborhoods/sf/goldengatepark/', 'name': 'Golden Gate Park'}\n",
      "{'link': 'http://en.wikipedia.org/wiki/Neighborhoods_in_San_Francisco#Presidio_Heights', 'name': 'Presidio Heights'}\n",
      "{'link': None, 'name': 'Laurel Heights / Jordan Park'}\n",
      "{'link': 'http://en.wikipedia.org/wiki/Lone_Mountain,_San_Francisco,_California', 'name': 'Lone Mountain'}\n",
      "{'link': 'http://en.wikipedia.org/wiki/Anza_Vista,_San_Francisco', 'name': 'Anza Vista'}\n",
      "{'link': 'http://sanfrancisco.about.com/od/neighborhoodprofiles/ig/sfmaps/Marina---Cow-Hollow-Map.htm', 'name': 'Cow Hollow'}\n",
      "{'link': None, 'name': 'Union Street'}\n",
      "{'link': 'http://www.sfgate.com/neighborhoods/sf/nobhill/', 'name': 'Nob Hill'}\n",
      "{'link': 'http://www.sfgate.com/neighborhoods/sf/marina/', 'name': 'Marina'}\n",
      "{'link': 'http://en.wikipedia.org/wiki/Telegraph_Hill,_San_Francisco', 'name': 'Telegraph Hill'}\n",
      "{'link': 'http://www.sfgate.com/neighborhoods/sf/unionsquare/', 'name': 'Downtown / Union Square'}\n",
      "{'link': 'http://www.sfgate.com/neighborhoods/sf/tenderloin/', 'name': 'Tenderloin'}\n",
      "{'link': 'http://en.wikipedia.org/wiki/Civic_Center,_San_Francisco,_California', 'name': 'Civic Center'}\n",
      "{'link': 'http://www.sfgate.com/neighborhoods/sf/hayesvalley/', 'name': 'Hayes Valley'}\n",
      "{'link': 'http://en.wikipedia.org/wiki/Alamo_Square,_San_Francisco', 'name': 'Alamo Square'}\n",
      "{'link': 'http://en.wikipedia.org/wiki/Panhandle_(San_Francisco)', 'name': 'Panhandle'}\n",
      "{'link': 'http://www.sfgate.com/neighborhoods/sf/haight/', 'name': 'Haight Ashbury'}\n",
      "{'link': 'http://en.wikipedia.org/wiki/Lower_Haight,_San_Francisco,_California', 'name': 'Lower Haight'}\n",
      "{'link': None, 'name': 'Mint Hill'}\n",
      "{'link': 'http://en.wikipedia.org/wiki/Duboce_Triangle,_San_Francisco,_California', 'name': 'Duboce Triangle'}\n",
      "{'link': 'http://www.sfgate.com/neighborhoods/sf/colevalley/', 'name': 'Cole Valley'}\n",
      "{'link': 'http://en.wikipedia.org/wiki/Neighborhoods_in_San_Francisco#Rincon_Hill', 'name': 'Rincon Hill'}\n",
      "{'link': 'http://en.wikipedia.org/wiki/Neighborhoods_in_San_Francisco#South_Beach', 'name': 'South Beach'}\n",
      "{'link': 'http://www.sfgate.com/neighborhoods/sf/soma/', 'name': 'South of Market'}\n",
      "{'link': None, 'name': 'Showplace Square'}\n",
      "{'link': None, 'name': 'Mission Bay'}\n",
      "{'link': None, 'name': 'Yerba Buena Island'}\n",
      "{'link': 'http://en.wikipedia.org/wiki/Treasure_Island,_California', 'name': 'Treasure Island'}\n",
      "{'link': None, 'name': 'Mission Dolores'}\n",
      "{'link': 'http://www.sfgate.com/neighborhoods/sf/castro/', 'name': 'Castro'}\n",
      "{'link': 'http://www.sfgate.com/neighborhoods/sf/outersunset/', 'name': 'Outer Sunset'}\n",
      "{'link': 'http://en.wikipedia.org/wiki/Neighborhoods_in_San_Francisco#Parkside', 'name': 'Parkside'}\n",
      "{'link': None, 'name': 'Stonestown'}\n",
      "{'link': 'http://en.wikipedia.org/wiki/Parkmerced,_San_Francisco,_California', 'name': 'Parkmerced'}\n",
      "{'link': 'http://en.wikipedia.org/wiki/Neighborhoods_in_San_Francisco#Lakeshore', 'name': 'Lakeshore'}\n",
      "{'link': 'http://en.wikipedia.org/wiki/Neighborhoods_in_San_Francisco#Golden_Gate_Heights', 'name': 'Golden Gate Heights'}\n",
      "{'link': 'http://en.wikipedia.org/wiki/Forest_Hill,_San_Francisco,_California', 'name': 'Forest Hill'}\n",
      "{'link': 'http://en.wikipedia.org/wiki/West_Portal,_San_Francisco,_California', 'name': 'West Portal'}\n",
      "{'link': 'http://en.wikipedia.org/wiki/Neighborhoods_in_San_Francisco#Clarendon_Heights', 'name': 'Clarendon Heights'}\n",
      "{'link': 'http://en.wikipedia.org/wiki/Neighborhoods_in_San_Francisco#Midtown_Terrace', 'name': 'Midtown Terrace'}\n",
      "{'link': 'http://en.wikipedia.org/wiki/Neighborhoods_in_San_Francisco#Laguna_Honda', 'name': 'Laguna Honda'}\n",
      "{'link': 'http://en.wikipedia.org/wiki/Nob_Hill,_San_Francisco', 'name': 'Lower Nob Hill'}\n",
      "{'link': 'http://en.wikipedia.org/wiki/Neighborhoods_in_San_Francisco#Upper_Market', 'name': 'Upper Market'}\n",
      "{'link': 'http://en.wikipedia.org/wiki/Neighborhoods_in_San_Francisco#Dolores_Heights', 'name': 'Dolores Heights'}\n",
      "{'link': 'http://www.sfgate.com/neighborhoods/sf/mission/', 'name': 'Mission'}\n",
      "{'link': 'http://www.sfgate.com/neighborhoods/sf/potrerohill/', 'name': 'Potrero Hill'}\n",
      "{'link': 'http://en.wikipedia.org/wiki/Dogpatch,_San_Francisco,_California', 'name': 'Dogpatch'}\n",
      "{'link': None, 'name': 'Central Waterfront'}\n",
      "{'link': 'http://en.wikipedia.org/wiki/Diamond_Heights,_San_Francisco', 'name': 'Diamond Heights'}\n",
      "{'link': 'http://en.wikipedia.org/wiki/Crocker-Amazon,_San_Francisco,_California', 'name': 'Crocker Amazon'}\n",
      "{'link': None, 'name': 'Fairmount'}\n",
      "{'link': None, 'name': 'Peralta Heights'}\n",
      "{'link': None, 'name': 'Holly Park'}\n",
      "{'link': 'http://en.wikipedia.org/wiki/Neighborhoods_in_San_Francisco#Merced_Manor', 'name': 'Merced Manor'}\n",
      "{'link': 'http://en.wikipedia.org/wiki/Neighborhoods_in_San_Francisco#Balboa_Terrace', 'name': 'Balboa Terrace'}\n",
      "{'link': 'http://en.wikipedia.org/wiki/Neighborhoods_in_San_Francisco#Ingleside', 'name': 'Ingleside'}\n",
      "{'link': 'http://en.wikipedia.org/wiki/Neighborhoods_in_San_Francisco#Merced_Heights', 'name': 'Merced Heights'}\n",
      "{'link': 'http://en.wikipedia.org/wiki/Outer_Mission,_San_Francisco,_California', 'name': 'Outer Mission'}\n",
      "{'link': 'http://en.wikipedia.org/wiki/Ingleside_Terraces,_San_Francisco,_California', 'name': 'Ingleside Terraces'}\n",
      "{'link': 'http://en.wikipedia.org/wiki/Mount_Davidson_(California)', 'name': 'Mt. Davidson Manor'}\n",
      "{'link': 'http://en.wikipedia.org/wiki/Neighborhoods_in_San_Francisco#Monterey_Heights', 'name': 'Monterey Heights'}\n",
      "{'link': 'http://en.wikipedia.org/wiki/Neighborhoods_in_San_Francisco#Westwood_Highlands', 'name': 'Westwood Highlands'}\n",
      "{'link': 'http://en.wikipedia.org/wiki/Westwood_Park,_San_Francisco,_California', 'name': 'Westwood Park'}\n",
      "{'link': 'http://en.wikipedia.org/wiki/Neighborhoods_in_San_Francisco#Miraloma_Park', 'name': 'Miraloma Park'}\n",
      "{'link': None, 'name': 'McLaren Park'}\n",
      "{'link': 'http://en.wikipedia.org/wiki/Neighborhoods_in_San_Francisco#Sunnydale', 'name': 'Sunnydale'}\n",
      "{'link': 'http://en.wikipedia.org/wiki/Visitacion_Valley,_San_Francisco,_California', 'name': 'Visitacion Valley'}\n",
      "{'link': 'http://en.wikipedia.org/wiki/India_Basin', 'name': 'India Basin'}\n",
      "{'link': 'http://www.roughguides.com/travel/north-america/usa/san-francisco/the-northern-waterfront.aspx', 'name': 'Northern Waterfront'}\n",
      "{'link': 'http://en.wikipedia.org/wiki/Hunters_Point,_San_Francisco,_California', 'name': 'Hunters Point'}\n",
      "{'link': None, 'name': 'Candlestick Point SRA'}\n",
      "{'link': None, 'name': 'Cayuga'}\n",
      "{'link': 'http://en.wikipedia.org/wiki/Neighborhoods_in_San_Francisco#oceanview', 'name': 'Oceanview'}\n",
      "{'link': None, 'name': 'Apparel City'}\n",
      "{'link': 'http://www.sfgate.com/neighborhoods/sf/bernalheights/', 'name': 'Bernal Heights'}\n",
      "{'link': 'http://www.sfgate.com/neighborhoods/sf/noevalley/', 'name': 'Noe Valley'}\n",
      "{'link': None, 'name': 'Produce Market'}\n",
      "{'link': 'http://en.wikipedia.org/wiki/Neighborhoods_in_San_Francisco#Bayview', 'name': 'Bayview'}\n",
      "{'link': 'http://en.wikipedia.org/wiki/Neighborhoods_in_San_Francisco#Silver_Terrace', 'name': 'Silver Terrace'}\n",
      "{'link': None, 'name': 'Bret Harte'}\n",
      "{'link': 'http://en.wikipedia.org/wiki/Neighborhoods_in_San_Francisco#Little_Hollywood', 'name': 'Little Hollywood'}\n",
      "{'link': 'http://en.wikipedia.org/wiki/Excelsior_District,_San_Francisco,_California', 'name': 'Excelsior'}\n",
      "{'link': 'http://en.wikipedia.org/wiki/Neighborhoods_in_San_Francisco#portola', 'name': 'Portola'}\n",
      "{'link': 'http://en.wikipedia.org/wiki/Neighborhoods_in_San_Francisco#University_Mound', 'name': 'University Mound'}\n",
      "{'link': None, 'name': 'St. Marys Park'}\n",
      "{'link': 'http://en.wikipedia.org/wiki/Neighborhoods_in_San_Francisco#Mission_Terrace', 'name': 'Mission Terrace'}\n",
      "{'link': 'http://en.wikipedia.org/wiki/Neighborhoods_in_San_Francisco#Sunnyside', 'name': 'Sunnyside'}\n",
      "{'link': 'http://en.wikipedia.org/wiki/Glen_Park,_San_Francisco', 'name': 'Glen Park'}\n",
      "{'link': 'http://www.sfgate.com/neighborhoods/sf/westernaddition/', 'name': 'Western Addition'}\n",
      "{'link': None, 'name': 'Aquatic Park / Ft. Mason'}\n",
      "{'link': 'http://www.sfgate.com/neighborhoods/sf/fishermanswharf/', 'name': 'Fishermans Wharf'}\n",
      "{'link': 'http://en.wikipedia.org/wiki/Neighborhoods_in_San_Francisco#Cathedral_Hill', 'name': 'Cathedral Hill'}\n",
      "{'link': 'http://en.wikipedia.org/wiki/Japantown,_San_Francisco,_California', 'name': 'Japantown'}\n",
      "{'link': 'http://www.sfgate.com/neighborhoods/sf/pacificheights/', 'name': 'Pacific Heights'}\n",
      "{'link': 'http://en.wikipedia.org/wiki/Lower_Pacific_Heights,_San_Francisco,_California', 'name': 'Lower Pacific Heights'}\n",
      "{'link': 'http://www.sfgate.com/neighborhoods/sf/chinatown/', 'name': 'Chinatown'}\n",
      "{'link': 'http://en.wikipedia.org/wiki/Polk_Gulch,_San_Francisco,_California', 'name': 'Polk Gulch'}\n",
      "{'link': 'http://www.sfgate.com/neighborhoods/sf/northbeach/', 'name': 'North Beach'}\n",
      "{'link': 'http://www.sfgate.com/neighborhoods/sf/russianhill/', 'name': 'Russian Hill'}\n",
      "{'link': 'http://sanfrancisco.about.com/od/neighborhoodprofiles/ig/sfmaps/financial-district.htm', 'name': 'Financial District'}\n",
      "{'link': 'http://www.sfgate.com/neighborhoods/sf/innersunset/', 'name': 'Inner Sunset'}\n",
      "{'link': 'http://en.wikipedia.org/wiki/Neighborhoods_in_San_Francisco#Parnassus', 'name': 'Parnassus Heights'}\n",
      "{'link': 'http://en.wikipedia.org/wiki/Neighborhoods_in_San_Francisco#Forest_Knolls', 'name': 'Forest Knolls'}\n",
      "{'link': 'http://en.wikipedia.org/wiki/Neighborhoods_in_San_Francisco#Buena_Vista', 'name': 'Buena Vista'}\n",
      "{'link': 'http://en.wikipedia.org/wiki/Corona_Heights,_San_Francisco', 'name': 'Corona Heights'}\n",
      "{'link': 'http://en.wikipedia.org/wiki/Haight-Ashbury', 'name': 'Ashbury Heights'}\n",
      "{'link': 'http://en.wikipedia.org/wiki/Eureka_Valley,_San_Francisco,_California', 'name': 'Eureka Valley'}\n",
      "{'link': 'http://en.wikipedia.org/wiki/St._Francis_Wood,_San_Francisco,_California', 'name': 'St. Francis Wood'}\n",
      "{'link': 'http://en.wikipedia.org/wiki/Neighborhoods_in_San_Francisco#Sherwood_Forest', 'name': 'Sherwood Forest'}\n"
     ]
    }
   ],
   "source": [
    "with open('SF.geojson') as f2:\n",
    "    sf_boundaries=json.load(f2)\n",
    "\n",
    "sf_boundaries['features'][0]\n",
    "for feature in sf_boundaries['features']:\n",
    "   print(feature['properties'])"
   ]
  },
  {
   "cell_type": "code",
   "execution_count": null,
   "metadata": {},
   "outputs": [],
   "source": []
  }
 ],
 "metadata": {
  "kernelspec": {
   "display_name": "Python 3",
   "language": "python",
   "name": "python3"
  },
  "language_info": {
   "codemirror_mode": {
    "name": "ipython",
    "version": 3
   },
   "file_extension": ".py",
   "mimetype": "text/x-python",
   "name": "python",
   "nbconvert_exporter": "python",
   "pygments_lexer": "ipython3",
   "version": "3.7.4"
  }
 },
 "nbformat": 4,
 "nbformat_minor": 4
}
